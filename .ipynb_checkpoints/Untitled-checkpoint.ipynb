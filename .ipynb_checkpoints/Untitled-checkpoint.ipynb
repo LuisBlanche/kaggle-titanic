{
 "cells": [
  {
   "cell_type": "code",
   "execution_count": null,
   "metadata": {
    "collapsed": true
   },
   "outputs": [],
   "source": []
  }
 ],
 "metadata": {
  "kernelspec": {
   "display_name": "gl-env",
   "language": "python",
   "name": "gl-env"
  }
 },
 "nbformat": 4,
 "nbformat_minor": 0
}
